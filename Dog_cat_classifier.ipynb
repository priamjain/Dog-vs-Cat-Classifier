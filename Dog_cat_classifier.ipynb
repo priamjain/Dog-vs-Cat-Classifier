{
 "cells": [
  {
   "cell_type": "code",
   "execution_count": 8,
   "metadata": {},
   "outputs": [],
   "source": [
    "import tensorflow as tf\n",
    "from tensorflow.keras.datasets import cifar10\n",
    "from tensorflow.keras.preprocessing.image import ImageDataGenerator\n",
    "from tensorflow.keras.models import Sequential\n",
    "from tensorflow.keras.layers import Conv2D,Dense,Flatten,Activation,Dropout,MaxPool2D\n",
    "from tensorflow.keras.callbacks import TensorBoard"
   ]
  },
  {
   "cell_type": "code",
   "execution_count": 9,
   "metadata": {},
   "outputs": [],
   "source": [
    "import pickle\n",
    "import time\n",
    "NAME = \"Cats vs Dogs -CNN_64x3\"\n",
    "tensorboard = TensorBoard(log_dir=\"logs/{}\".format(NAME))"
   ]
  },
  {
   "cell_type": "code",
   "execution_count": 10,
   "metadata": {},
   "outputs": [],
   "source": [
    "pickle_in=open(\"X.pickle\",\"rb\")\n",
    "X=pickle.load(pickle_in)\n",
    "pickle_in=open(\"y.pickle\",\"rb\")\n",
    "y=pickle.load(pickle_in)"
   ]
  },
  {
   "cell_type": "code",
   "execution_count": 11,
   "metadata": {},
   "outputs": [],
   "source": [
    "X=X/255.0"
   ]
  },
  {
   "cell_type": "code",
   "execution_count": 12,
   "metadata": {},
   "outputs": [
    {
     "name": "stdout",
     "output_type": "stream",
     "text": [
      "3-conv-64-nodes-0-dense-1558074030\n",
      "Train on 17938 samples, validate on 6976 samples\n",
      "Epoch 1/10\n",
      "17938/17938 [==============================] - 103s 6ms/sample - loss: 0.6255 - acc: 0.6406 - val_loss: 0.5477 - val_acc: 0.7216\n",
      "Epoch 2/10\n",
      "17938/17938 [==============================] - 100s 6ms/sample - loss: 0.5246 - acc: 0.7402 - val_loss: 0.4810 - val_acc: 0.7734\n",
      "Epoch 3/10\n",
      "17938/17938 [==============================] - 101s 6ms/sample - loss: 0.4636 - acc: 0.7816 - val_loss: 0.4318 - val_acc: 0.7983\n",
      "Epoch 4/10\n",
      "17938/17938 [==============================] - 101s 6ms/sample - loss: 0.4112 - acc: 0.8114 - val_loss: 0.4045 - val_acc: 0.8171\n",
      "Epoch 5/10\n",
      "17938/17938 [==============================] - 108s 6ms/sample - loss: 0.3796 - acc: 0.8292 - val_loss: 0.3827 - val_acc: 0.8283\n",
      "Epoch 6/10\n",
      "17938/17938 [==============================] - 101s 6ms/sample - loss: 0.3478 - acc: 0.8475 - val_loss: 0.3690 - val_acc: 0.8377\n",
      "Epoch 7/10\n",
      "17938/17938 [==============================] - 100s 6ms/sample - loss: 0.3168 - acc: 0.8620 - val_loss: 0.3691 - val_acc: 0.8343\n",
      "Epoch 8/10\n",
      "17938/17938 [==============================] - 101s 6ms/sample - loss: 0.2805 - acc: 0.8816 - val_loss: 0.3812 - val_acc: 0.8384\n",
      "Epoch 9/10\n",
      "17938/17938 [==============================] - 101s 6ms/sample - loss: 0.2605 - acc: 0.8891 - val_loss: 0.3725 - val_acc: 0.8366\n",
      "Epoch 10/10\n",
      "17938/17938 [==============================] - 101s 6ms/sample - loss: 0.2356 - acc: 0.8987 - val_loss: 0.3505 - val_acc: 0.8493\n"
     ]
    }
   ],
   "source": [
    "dense_layers = [0]\n",
    "layer_sizes = [64]\n",
    "conv_layers = [3]\n",
    "\n",
    "for dense_layer in dense_layers:\n",
    "    for layer_size in layer_sizes:\n",
    "        for conv_layer in conv_layers:\n",
    "            NAME = \"{}-conv-{}-nodes-{}-dense-{}\".format(conv_layer, layer_size, dense_layer, int(time.time()))\n",
    "            print(NAME)\n",
    "\n",
    "            model = Sequential()\n",
    "\n",
    "            model.add(Conv2D(layer_size, (3, 3), input_shape=X.shape[1:]))\n",
    "            model.add(Activation('relu'))\n",
    "            model.add(MaxPool2D(pool_size=(2, 2)))\n",
    "\n",
    "            for l in range(conv_layer-1):\n",
    "                model.add(Conv2D(layer_size, (3, 3)))\n",
    "                model.add(Activation('relu'))\n",
    "                model.add(MaxPool2D(pool_size=(2, 2)))\n",
    "\n",
    "            model.add(Flatten())\n",
    "\n",
    "            for _ in range(dense_layer):\n",
    "                model.add(Dense(layer_size))\n",
    "                model.add(Activation('relu'))\n",
    "\n",
    "            model.add(Dense(1))\n",
    "            model.add(Activation('sigmoid'))\n",
    "\n",
    "            tensorboard = TensorBoard(log_dir=\"logs/{}\".format(NAME))\n",
    "\n",
    "            model.compile(loss='binary_crossentropy',\n",
    "                          optimizer='adam',\n",
    "                          metrics=['accuracy'],\n",
    "                          )\n",
    "\n",
    "            model.fit(X, y,\n",
    "                      batch_size=32,\n",
    "                      epochs=10,\n",
    "                      validation_split=0.28,\n",
    "                      callbacks=[tensorboard])"
   ]
  },
  {
   "cell_type": "code",
   "execution_count": null,
   "metadata": {},
   "outputs": [],
   "source": [
    "#model.add(Conv2D(256,(3,3), activation='relu'))\n",
    "#model.add(MaxPool2D(pool_size=(2,2)))"
   ]
  },
  {
   "cell_type": "code",
   "execution_count": null,
   "metadata": {},
   "outputs": [],
   "source": [
    "#model.add(Flatten())\n",
    "#model.add(Dense(64))\n",
    "#model.add(Dense(1, activation='sigmoid'))"
   ]
  },
  {
   "cell_type": "code",
   "execution_count": null,
   "metadata": {},
   "outputs": [],
   "source": [
    "#model.compile(loss='binary_crossentropy',\n",
    " #             optimizer='adam',\n",
    "  #            metrics=['accuracy'])\n",
    "\n",
    "#model.fit(X, y, batch_size=32, epochs=3, validation_split=0.3, callbacks=[tensorboard])"
   ]
  },
  {
   "cell_type": "code",
   "execution_count": 13,
   "metadata": {},
   "outputs": [],
   "source": [
    "model.save(\"CNN_64x3.model\")"
   ]
  },
  {
   "cell_type": "code",
   "execution_count": null,
   "metadata": {},
   "outputs": [],
   "source": []
  }
 ],
 "metadata": {
  "kernelspec": {
   "display_name": "Python 3",
   "language": "python",
   "name": "python3"
  },
  "language_info": {
   "codemirror_mode": {
    "name": "ipython",
    "version": 3
   },
   "file_extension": ".py",
   "mimetype": "text/x-python",
   "name": "python",
   "nbconvert_exporter": "python",
   "pygments_lexer": "ipython3",
   "version": "3.7.1"
  }
 },
 "nbformat": 4,
 "nbformat_minor": 2
}
