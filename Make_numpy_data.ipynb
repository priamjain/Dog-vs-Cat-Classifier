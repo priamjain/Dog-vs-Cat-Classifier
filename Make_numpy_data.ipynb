{
 "cells": [
  {
   "cell_type": "code",
   "execution_count": 1,
   "metadata": {},
   "outputs": [],
   "source": [
    "import tensorflow.keras as keras\n",
    "import tensorflow as tf\n",
    "import matplotlib.pyplot as plt\n",
    "%matplotlib inline\n",
    "import numpy as np\n",
    "import pandas as pd"
   ]
  },
  {
   "cell_type": "code",
   "execution_count": 2,
   "metadata": {},
   "outputs": [],
   "source": [
    "import cv2\n",
    "import os\n",
    "from tqdm import tqdm"
   ]
  },
  {
   "cell_type": "code",
   "execution_count": 3,
   "metadata": {},
   "outputs": [],
   "source": [
    "DATADIR = \"PetImages\""
   ]
  },
  {
   "cell_type": "code",
   "execution_count": 4,
   "metadata": {},
   "outputs": [
    {
     "name": "stderr",
     "output_type": "stream",
     "text": [
      "100%|██████████| 12485/12485 [03:17<00:00, 72.40it/s]\n",
      "100%|██████████| 12485/12485 [03:07<00:00, 66.61it/s]"
     ]
    },
    {
     "name": "stdout",
     "output_type": "stream",
     "text": [
      "24914\n",
      "24914\n"
     ]
    },
    {
     "name": "stderr",
     "output_type": "stream",
     "text": [
      "\n"
     ]
    }
   ],
   "source": [
    "\n",
    "training_data=[]\n",
    "Categories = [\"Dog\",\"Cat\"]\n",
    "IMG_SIZE=70\n",
    "def train_data():\n",
    "    for category in Categories:\n",
    "        path=os.path.join(DATADIR,category)\n",
    "        class_num=Categories.index(category)\n",
    "        for img in tqdm(os.listdir(path)):\n",
    "            try:\n",
    "                img_array=cv2.imread(os.path.join(path,img),cv2.IMREAD_GRAYSCALE)\n",
    "                img_array=cv2.resize(img_array,(IMG_SIZE,IMG_SIZE))\n",
    "                training_data.append([img_array,class_num])\n",
    "            except Exception as e:\n",
    "                pass\n",
    "    print(len(training_data))\n",
    "    \n",
    "train_data()\n",
    "print(len(training_data))"
   ]
  },
  {
   "cell_type": "code",
   "execution_count": 5,
   "metadata": {},
   "outputs": [],
   "source": [
    "import random"
   ]
  },
  {
   "cell_type": "code",
   "execution_count": 8,
   "metadata": {},
   "outputs": [],
   "source": [
    "#import random"
   ]
  },
  {
   "cell_type": "code",
   "execution_count": 6,
   "metadata": {},
   "outputs": [],
   "source": [
    "random.shuffle(training_data)"
   ]
  },
  {
   "cell_type": "code",
   "execution_count": 7,
   "metadata": {},
   "outputs": [],
   "source": [
    "X=[]\n",
    "y=[]\n",
    "for features,lables in training_data:\n",
    "    X.append(features)\n",
    "    y.append(lables)\n",
    "X= np.array(X).reshape(-1,IMG_SIZE,IMG_SIZE,1)"
   ]
  },
  {
   "cell_type": "code",
   "execution_count": 8,
   "metadata": {},
   "outputs": [
    {
     "name": "stdout",
     "output_type": "stream",
     "text": [
      "[[[170]\n",
      "  [170]\n",
      "  [174]\n",
      "  ...\n",
      "  [153]\n",
      "  [160]\n",
      "  [148]]\n",
      "\n",
      " [[142]\n",
      "  [143]\n",
      "  [126]\n",
      "  ...\n",
      "  [144]\n",
      "  [144]\n",
      "  [139]]\n",
      "\n",
      " [[121]\n",
      "  [110]\n",
      "  [117]\n",
      "  ...\n",
      "  [126]\n",
      "  [129]\n",
      "  [123]]\n",
      "\n",
      " ...\n",
      "\n",
      " [[ 83]\n",
      "  [138]\n",
      "  [ 75]\n",
      "  ...\n",
      "  [111]\n",
      "  [183]\n",
      "  [142]]\n",
      "\n",
      " [[ 89]\n",
      "  [ 82]\n",
      "  [137]\n",
      "  ...\n",
      "  [241]\n",
      "  [160]\n",
      "  [149]]\n",
      "\n",
      " [[168]\n",
      "  [169]\n",
      "  [105]\n",
      "  ...\n",
      "  [159]\n",
      "  [139]\n",
      "  [156]]]\n"
     ]
    }
   ],
   "source": [
    "print(X[0])"
   ]
  },
  {
   "cell_type": "code",
   "execution_count": 9,
   "metadata": {},
   "outputs": [],
   "source": [
    "import pickle"
   ]
  },
  {
   "cell_type": "code",
   "execution_count": 10,
   "metadata": {},
   "outputs": [],
   "source": [
    "pickle_out=open(\"X.pickle\",\"wb\")\n",
    "pickle.dump(X,pickle_out)\n",
    "pickle_out.close()\n",
    "pickle_out=open(\"y.pickle\",\"wb\")\n",
    "pickle.dump(y,pickle_out)\n",
    "pickle_out.close()"
   ]
  },
  {
   "cell_type": "code",
   "execution_count": null,
   "metadata": {},
   "outputs": [],
   "source": []
  }
 ],
 "metadata": {
  "kernelspec": {
   "display_name": "Python 3",
   "language": "python",
   "name": "python3"
  },
  "language_info": {
   "codemirror_mode": {
    "name": "ipython",
    "version": 3
   },
   "file_extension": ".py",
   "mimetype": "text/x-python",
   "name": "python",
   "nbconvert_exporter": "python",
   "pygments_lexer": "ipython3",
   "version": "3.7.1"
  }
 },
 "nbformat": 4,
 "nbformat_minor": 2
}
